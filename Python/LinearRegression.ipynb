{
  "nbformat": 4,
  "nbformat_minor": 0,
  "metadata": {
    "colab": {
      "name": "LinearRegression.ipynb",
      "provenance": [],
      "authorship_tag": "ABX9TyOJouDATrwtoifiwrtWQCwL",
      "include_colab_link": true
    },
    "kernelspec": {
      "name": "python3",
      "display_name": "Python 3"
    },
    "language_info": {
      "name": "python"
    }
  },
  "cells": [
    {
      "cell_type": "markdown",
      "metadata": {
        "id": "view-in-github",
        "colab_type": "text"
      },
      "source": [
        "<a href=\"https://colab.research.google.com/github/fellipepf/DataScienceAnalytics/blob/main/Python/LinearRegression.ipynb\" target=\"_parent\"><img src=\"https://colab.research.google.com/assets/colab-badge.svg\" alt=\"Open In Colab\"/></a>"
      ]
    },
    {
      "cell_type": "code",
      "metadata": {
        "id": "bTJndneU0A5N"
      },
      "source": [
        "from sklearn.linear_model import LinearRegression\n",
        "import random"
      ],
      "execution_count": null,
      "outputs": []
    },
    {
      "cell_type": "code",
      "metadata": {
        "id": "T-F-GIjM2COo"
      },
      "source": [
        "feature_set = []\n",
        "target_set = []\n"
      ],
      "execution_count": null,
      "outputs": []
    },
    {
      "cell_type": "code",
      "metadata": {
        "id": "3BZErYcE2H4C"
      },
      "source": [
        "number_of_rows = 200\n",
        "\n",
        "#limit the possible values in the data set\n",
        "random_number_limit = 2000\n"
      ],
      "execution_count": null,
      "outputs": []
    },
    {
      "cell_type": "code",
      "metadata": {
        "colab": {
          "base_uri": "https://localhost:8080/"
        },
        "id": "9oEY5Wl-2W2q",
        "outputId": "bc06c5c2-55ab-4973-fd44-c1e008990196"
      },
      "source": [
        "#dataset\n",
        "\n",
        "for i in range(0, number_of_rows):\n",
        "  x = random.randint(0, random_number_limit )\n",
        "  y = random.randint(0, random_number_limit )\n",
        "  z = random.randint(0, random_number_limit )\n",
        "\n",
        "  #linear function for the target dataset\n",
        "  function = (10*x)+(2*y)+(3*z)\n",
        "\n",
        "  #append to the list\n",
        "  feature_set.append([x,y,z])\n",
        "  target_set.append(function)\n",
        "\n",
        "#linear regression\n",
        "model = LinearRegression()\n",
        "model.fit(feature_set, target_set)\n",
        "\n",
        "\n"
      ],
      "execution_count": null,
      "outputs": [
        {
          "output_type": "execute_result",
          "data": {
            "text/plain": [
              "LinearRegression(copy_X=True, fit_intercept=True, n_jobs=None, normalize=False)"
            ]
          },
          "metadata": {},
          "execution_count": 6
        }
      ]
    },
    {
      "cell_type": "code",
      "metadata": {
        "colab": {
          "base_uri": "https://localhost:8080/"
        },
        "id": "0qXre8fs3xEt",
        "outputId": "acb9a1ec-87fe-4fe7-d6a4-a7b9ef8259f1"
      },
      "source": [
        "#create the test dataset\n",
        "test_set = [[8,10,0]] #expected result: 100\n",
        "\n",
        "prediction = model.predict(test_set)\n",
        "\n",
        "print('Prediction: '+ str(prediction) +'Coefs: '+ str(model.coef_))"
      ],
      "execution_count": null,
      "outputs": [
        {
          "output_type": "stream",
          "name": "stdout",
          "text": [
            "Prediction: [100.]Coefs: [10.  2.  3.]\n"
          ]
        }
      ]
    }
  ]
}